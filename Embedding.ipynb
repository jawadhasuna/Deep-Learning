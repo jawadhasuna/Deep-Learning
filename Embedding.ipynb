{
  "nbformat": 4,
  "nbformat_minor": 0,
  "metadata": {
    "colab": {
      "provenance": []
    },
    "kernelspec": {
      "name": "python3",
      "display_name": "Python 3"
    },
    "language_info": {
      "name": "python"
    }
  },
  "cells": [
    {
      "cell_type": "code",
      "source": [
        "import numpy as np\n",
        "import keras\n",
        "from keras.datasets import imdb\n",
        "from keras.models import Sequential\n",
        "from keras.layers import Embedding, LSTM, Dense, SpatialDropout1D\n",
        "from keras.preprocessing.sequence import pad_sequences\n",
        "\n",
        "# Set random seed for reproducibility\n",
        "np.random.seed(42)\n",
        "\n",
        "# Parameters\n",
        "vocab_size = 5000  # Number of unique words to consider #  the model will only use the top 5,000 most frequent words in the IMDB movie reviews dataset.\n",
        "embedding_dim = 128  # Dimension of the embedding layer   An embedding dimension of 128 means that each word will be represented as a vector with 128 values.\n",
        "max_length = 200  # Maximum length of input sequences\n",
        "batch_size = 64\n",
        "num_epochs = 5\n",
        "\n",
        "# Load the IMDB dataset\n",
        "(X_train, y_train), (X_test, y_test) = imdb.load_data(num_words=vocab_size)\n",
        "\n",
        "# Pad sequences to ensure uniform input size\n",
        "X_train = pad_sequences(X_train, maxlen=max_length)\n",
        "X_test = pad_sequences(X_test, maxlen=max_length)\n",
        "\n",
        "# Build the model\n",
        "model = Sequential()\n",
        "model.add(Embedding(input_dim=vocab_size, output_dim=embedding_dim, input_length=max_length))\n",
        "model.add(SpatialDropout1D(0.2))\n",
        "model.add(LSTM(100, dropout=0.2, recurrent_dropout=0.2))\n",
        "model.add(Dense(1, activation='sigmoid'))\n",
        "\n",
        "# Compile the model\n",
        "model.compile(loss='binary_crossentropy', optimizer='adam', metrics=['accuracy'])\n",
        "\n",
        "# Train the model\n",
        "model.fit(X_train, y_train, epochs=num_epochs, batch_size=batch_size, validation_data=(X_test, y_test), verbose=2)\n",
        "\n",
        "# Evaluate the model\n",
        "loss, accuracy = model.evaluate(X_test, y_test, verbose=2)\n",
        "print(f'Test Accuracy: {accuracy:.4f}')\n"
      ],
      "metadata": {
        "colab": {
          "base_uri": "https://localhost:8080/"
        },
        "id": "DRLczYJUFdIe",
        "outputId": "3fd2d3a8-3283-4f4c-bff8-1fe9fdb7ca60"
      },
      "execution_count": 5,
      "outputs": [
        {
          "output_type": "stream",
          "name": "stdout",
          "text": [
            "Downloading data from https://storage.googleapis.com/tensorflow/tf-keras-datasets/imdb.npz\n",
            "\u001b[1m17464789/17464789\u001b[0m \u001b[32m━━━━━━━━━━━━━━━━━━━━\u001b[0m\u001b[37m\u001b[0m \u001b[1m0s\u001b[0m 0us/step\n"
          ]
        },
        {
          "output_type": "stream",
          "name": "stderr",
          "text": [
            "/usr/local/lib/python3.12/dist-packages/keras/src/layers/core/embedding.py:97: UserWarning: Argument `input_length` is deprecated. Just remove it.\n",
            "  warnings.warn(\n"
          ]
        },
        {
          "output_type": "stream",
          "name": "stdout",
          "text": [
            "Epoch 1/5\n",
            "391/391 - 232s - 594ms/step - accuracy: 0.7628 - loss: 0.4827 - val_accuracy: 0.7943 - val_loss: 0.4444\n",
            "Epoch 2/5\n",
            "391/391 - 260s - 665ms/step - accuracy: 0.8419 - loss: 0.3711 - val_accuracy: 0.8430 - val_loss: 0.3628\n",
            "Epoch 3/5\n",
            "391/391 - 229s - 586ms/step - accuracy: 0.8527 - loss: 0.3457 - val_accuracy: 0.8506 - val_loss: 0.3565\n",
            "Epoch 4/5\n",
            "391/391 - 264s - 674ms/step - accuracy: 0.8664 - loss: 0.3278 - val_accuracy: 0.8565 - val_loss: 0.3626\n",
            "Epoch 5/5\n",
            "391/391 - 259s - 663ms/step - accuracy: 0.8931 - loss: 0.2684 - val_accuracy: 0.8461 - val_loss: 0.3582\n",
            "782/782 - 53s - 68ms/step - accuracy: 0.8461 - loss: 0.3582\n",
            "Test Accuracy: 0.8461\n"
          ]
        }
      ]
    }
  ]
}