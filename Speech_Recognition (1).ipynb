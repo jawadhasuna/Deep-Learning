{
  "nbformat": 4,
  "nbformat_minor": 0,
  "metadata": {
    "colab": {
      "provenance": []
    },
    "kernelspec": {
      "name": "python3",
      "display_name": "Python 3"
    },
    "language_info": {
      "name": "python"
    }
  },
  "cells": [
    {
      "cell_type": "code",
      "source": [
        "import numpy as np\n",
        "from tensorflow import keras\n",
        "from tensorflow.keras.models import Sequential\n",
        "from tensorflow.keras.layers import Dense, LSTM, Dropout\n",
        "from tensorflow.keras.utils import to_categorical\n",
        "\n",
        "# Generate synthetic data\n",
        "num_samples = 900\n",
        "max_length = 150\n",
        "num_classes = 4\n",
        "\n",
        "X = np.random.rand(num_samples, max_length, 1)\n",
        "y = np.random.randint(0, num_classes, size=num_samples)\n",
        "y = to_categorical(y, num_classes=num_classes)\n",
        "\n",
        "# Split the data into training and validation sets\n",
        "from sklearn.model_selection import train_test_split\n",
        "X_train, X_val, y_train, y_val = train_test_split(X, y, test_size=0.3, random_state=42)\n",
        "\n",
        "# Define the model\n",
        "model = Sequential()\n",
        "model.add(LSTM(64, input_shape=X_train.shape[1:], return_sequences=True))\n",
        "model.add(Dropout(0.45))\n",
        "model.add(LSTM(64))\n",
        "model.add(Dropout(0.45))\n",
        "model.add(Dense(64, activation='relu'))\n",
        "model.add(Dense(y.shape[1], activation='softmax'))\n",
        "\n",
        "# Compile the model\n",
        "model.compile(optimizer='adam',\n",
        "              loss='categorical_crossentropy',\n",
        "              metrics=['accuracy'])\n",
        "\n",
        "# Train the model\n",
        "model.fit(X_train, y_train, epochs=14, validation_data=(X_val, y_val))\n",
        "\n",
        "# Evaluate the model\n",
        "loss, accuracy = model.evaluate(X_val, y_val)\n",
        "print('Validation accuracy:', accuracy)\n"
      ],
      "metadata": {
        "colab": {
          "base_uri": "https://localhost:8080/"
        },
        "id": "IfiyD9QAOEmq",
        "outputId": "b9ec5e7d-f25f-4a24-dd56-17defcee35ce"
      },
      "execution_count": 19,
      "outputs": [
        {
          "output_type": "stream",
          "name": "stdout",
          "text": [
            "Epoch 1/14\n",
            "\u001b[1m20/20\u001b[0m \u001b[32m━━━━━━━━━━━━━━━━━━━━\u001b[0m\u001b[37m\u001b[0m \u001b[1m5s\u001b[0m 121ms/step - accuracy: 0.2488 - loss: 1.3860 - val_accuracy: 0.2556 - val_loss: 1.3872\n",
            "Epoch 2/14\n",
            "\u001b[1m20/20\u001b[0m \u001b[32m━━━━━━━━━━━━━━━━━━━━\u001b[0m\u001b[37m\u001b[0m \u001b[1m2s\u001b[0m 100ms/step - accuracy: 0.2588 - loss: 1.3878 - val_accuracy: 0.2556 - val_loss: 1.3867\n",
            "Epoch 3/14\n",
            "\u001b[1m20/20\u001b[0m \u001b[32m━━━━━━━━━━━━━━━━━━━━\u001b[0m\u001b[37m\u001b[0m \u001b[1m2s\u001b[0m 106ms/step - accuracy: 0.2449 - loss: 1.3868 - val_accuracy: 0.2556 - val_loss: 1.3886\n",
            "Epoch 4/14\n",
            "\u001b[1m20/20\u001b[0m \u001b[32m━━━━━━━━━━━━━━━━━━━━\u001b[0m\u001b[37m\u001b[0m \u001b[1m3s\u001b[0m 105ms/step - accuracy: 0.2615 - loss: 1.3865 - val_accuracy: 0.2556 - val_loss: 1.3865\n",
            "Epoch 5/14\n",
            "\u001b[1m20/20\u001b[0m \u001b[32m━━━━━━━━━━━━━━━━━━━━\u001b[0m\u001b[37m\u001b[0m \u001b[1m3s\u001b[0m 124ms/step - accuracy: 0.2471 - loss: 1.3861 - val_accuracy: 0.2556 - val_loss: 1.3874\n",
            "Epoch 6/14\n",
            "\u001b[1m20/20\u001b[0m \u001b[32m━━━━━━━━━━━━━━━━━━━━\u001b[0m\u001b[37m\u001b[0m \u001b[1m2s\u001b[0m 110ms/step - accuracy: 0.2837 - loss: 1.3841 - val_accuracy: 0.2556 - val_loss: 1.3881\n",
            "Epoch 7/14\n",
            "\u001b[1m20/20\u001b[0m \u001b[32m━━━━━━━━━━━━━━━━━━━━\u001b[0m\u001b[37m\u001b[0m \u001b[1m2s\u001b[0m 102ms/step - accuracy: 0.2625 - loss: 1.3899 - val_accuracy: 0.2556 - val_loss: 1.3883\n",
            "Epoch 8/14\n",
            "\u001b[1m20/20\u001b[0m \u001b[32m━━━━━━━━━━━━━━━━━━━━\u001b[0m\u001b[37m\u001b[0m \u001b[1m2s\u001b[0m 100ms/step - accuracy: 0.2713 - loss: 1.3826 - val_accuracy: 0.2556 - val_loss: 1.3866\n",
            "Epoch 9/14\n",
            "\u001b[1m20/20\u001b[0m \u001b[32m━━━━━━━━━━━━━━━━━━━━\u001b[0m\u001b[37m\u001b[0m \u001b[1m2s\u001b[0m 104ms/step - accuracy: 0.2272 - loss: 1.3891 - val_accuracy: 0.2556 - val_loss: 1.3884\n",
            "Epoch 10/14\n",
            "\u001b[1m20/20\u001b[0m \u001b[32m━━━━━━━━━━━━━━━━━━━━\u001b[0m\u001b[37m\u001b[0m \u001b[1m3s\u001b[0m 131ms/step - accuracy: 0.2848 - loss: 1.3859 - val_accuracy: 0.2556 - val_loss: 1.3868\n",
            "Epoch 11/14\n",
            "\u001b[1m20/20\u001b[0m \u001b[32m━━━━━━━━━━━━━━━━━━━━\u001b[0m\u001b[37m\u001b[0m \u001b[1m2s\u001b[0m 105ms/step - accuracy: 0.2427 - loss: 1.3862 - val_accuracy: 0.2556 - val_loss: 1.3861\n",
            "Epoch 12/14\n",
            "\u001b[1m20/20\u001b[0m \u001b[32m━━━━━━━━━━━━━━━━━━━━\u001b[0m\u001b[37m\u001b[0m \u001b[1m2s\u001b[0m 105ms/step - accuracy: 0.2711 - loss: 1.3857 - val_accuracy: 0.2556 - val_loss: 1.3857\n",
            "Epoch 13/14\n",
            "\u001b[1m20/20\u001b[0m \u001b[32m━━━━━━━━━━━━━━━━━━━━\u001b[0m\u001b[37m\u001b[0m \u001b[1m2s\u001b[0m 99ms/step - accuracy: 0.2555 - loss: 1.3871 - val_accuracy: 0.2556 - val_loss: 1.3878\n",
            "Epoch 14/14\n",
            "\u001b[1m20/20\u001b[0m \u001b[32m━━━━━━━━━━━━━━━━━━━━\u001b[0m\u001b[37m\u001b[0m \u001b[1m2s\u001b[0m 105ms/step - accuracy: 0.2980 - loss: 1.3852 - val_accuracy: 0.2556 - val_loss: 1.3884\n",
            "\u001b[1m9/9\u001b[0m \u001b[32m━━━━━━━━━━━━━━━━━━━━\u001b[0m\u001b[37m\u001b[0m \u001b[1m0s\u001b[0m 26ms/step - accuracy: 0.2537 - loss: 1.3883\n",
            "Validation accuracy: 0.25555557012557983\n"
          ]
        }
      ]
    }
  ]
}