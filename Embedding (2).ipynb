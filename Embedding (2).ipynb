{
  "nbformat": 4,
  "nbformat_minor": 0,
  "metadata": {
    "colab": {
      "provenance": []
    },
    "kernelspec": {
      "name": "python3",
      "display_name": "Python 3"
    },
    "language_info": {
      "name": "python"
    }
  },
  "cells": [
    {
      "cell_type": "code",
      "source": [
        "import numpy as np\n",
        "import keras\n",
        "from keras.datasets import imdb\n",
        "from keras.models import Sequential\n",
        "from keras.layers import Embedding, LSTM, Dense, SpatialDropout1D\n",
        "from keras.preprocessing.sequence import pad_sequences\n",
        "\n",
        "# Set random seed for reproducibility\n",
        "np.random.seed(42)\n",
        "\n",
        "# Parameters\n",
        "vocab_size = 15000  # Number of unique words to consider #  the model will only use the top 5,000 most frequent words in the IMDB movie reviews dataset.\n",
        "embedding_dim = 128  # Dimension of the embedding layer   An embedding dimension of 128 means that each word will be represented as a vector with 128 values.\n",
        "max_length = 300  # Maximum length of input sequences\n",
        "batch_size = 64\n",
        "num_epochs = 7\n",
        "\n",
        "# Load the IMDB dataset\n",
        "(X_train, y_train), (X_test, y_test) = imdb.load_data(num_words=vocab_size)\n",
        "\n",
        "# Pad sequences to ensure uniform input size\n",
        "X_train = pad_sequences(X_train, maxlen=max_length)\n",
        "X_test = pad_sequences(X_test, maxlen=max_length)\n",
        "\n",
        "# Build the model\n",
        "model = Sequential()\n",
        "model.add(Embedding(input_dim=vocab_size, output_dim=embedding_dim, input_length=max_length))\n",
        "model.add(SpatialDropout1D(0.3))\n",
        "model.add(LSTM(64, dropout=0.3, recurrent_dropout=0.2))\n",
        "model.add(Dense(1, activation='sigmoid'))\n",
        "\n",
        "# Compile the model\n",
        "model.compile(loss='binary_crossentropy', optimizer='adam', metrics=['accuracy'])\n",
        "\n",
        "# Train the model\n",
        "model.fit(X_train, y_train, epochs=num_epochs, batch_size=batch_size, validation_data=(X_test, y_test), verbose=2)\n",
        "\n",
        "# Evaluate the model\n",
        "loss, accuracy = model.evaluate(X_test, y_test, verbose=2)\n",
        "print(f'Test Accuracy: {accuracy:.4f}')\n"
      ],
      "metadata": {
        "colab": {
          "base_uri": "https://localhost:8080/"
        },
        "id": "DRLczYJUFdIe",
        "outputId": "7b723495-52b8-4525-9db4-084f7d05a966"
      },
      "execution_count": 2,
      "outputs": [
        {
          "output_type": "stream",
          "name": "stdout",
          "text": [
            "Epoch 1/7\n",
            "391/391 - 216s - 552ms/step - accuracy: 0.7693 - loss: 0.4765 - val_accuracy: 0.8379 - val_loss: 0.3755\n",
            "Epoch 2/7\n",
            "391/391 - 251s - 642ms/step - accuracy: 0.8690 - loss: 0.3218 - val_accuracy: 0.8533 - val_loss: 0.3480\n",
            "Epoch 3/7\n",
            "391/391 - 201s - 514ms/step - accuracy: 0.8846 - loss: 0.2870 - val_accuracy: 0.8425 - val_loss: 0.3725\n",
            "Epoch 4/7\n",
            "391/391 - 212s - 542ms/step - accuracy: 0.8950 - loss: 0.2634 - val_accuracy: 0.8539 - val_loss: 0.3576\n",
            "Epoch 5/7\n",
            "391/391 - 254s - 649ms/step - accuracy: 0.9333 - loss: 0.1804 - val_accuracy: 0.8563 - val_loss: 0.3589\n",
            "Epoch 6/7\n",
            "391/391 - 270s - 691ms/step - accuracy: 0.9466 - loss: 0.1463 - val_accuracy: 0.8581 - val_loss: 0.3920\n",
            "Epoch 7/7\n",
            "391/391 - 211s - 539ms/step - accuracy: 0.9600 - loss: 0.1139 - val_accuracy: 0.8560 - val_loss: 0.4214\n",
            "782/782 - 45s - 57ms/step - accuracy: 0.8560 - loss: 0.4214\n",
            "Test Accuracy: 0.8560\n"
          ]
        }
      ]
    }
  ]
}