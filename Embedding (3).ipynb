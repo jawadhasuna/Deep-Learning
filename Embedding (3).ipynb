{
  "nbformat": 4,
  "nbformat_minor": 0,
  "metadata": {
    "colab": {
      "provenance": [],
      "gpuType": "T4"
    },
    "kernelspec": {
      "name": "python3",
      "display_name": "Python 3"
    },
    "language_info": {
      "name": "python"
    },
    "accelerator": "GPU"
  },
  "cells": [
    {
      "cell_type": "code",
      "source": [
        "import numpy as np\n",
        "import keras\n",
        "from keras.datasets import imdb\n",
        "from keras.models import Sequential\n",
        "from keras.layers import Embedding, LSTM, Dense, SpatialDropout1D\n",
        "from keras.preprocessing.sequence import pad_sequences\n",
        "from keras.callbacks import EarlyStopping\n",
        "\n",
        "# Set random seed for reproducibility\n",
        "np.random.seed(42)\n",
        "\n",
        "# Parameters\n",
        "vocab_size = 15000  # Number of unique words to consider\n",
        "embedding_dim = 128  # Dimension of the embedding layer\n",
        "max_length = 200  # Maximum length of input sequences\n",
        "batch_size = 64\n",
        "num_epochs = 5\n",
        "\n",
        "# Load the IMDB dataset\n",
        "(X_train, y_train), (X_test, y_test) = imdb.load_data(num_words=vocab_size)\n",
        "\n",
        "# Pad sequences to ensure uniform input size\n",
        "X_train = pad_sequences(X_train, maxlen=max_length)\n",
        "X_test = pad_sequences(X_test, maxlen=max_length)\n",
        "\n",
        "# Build the model\n",
        "model = Sequential()\n",
        "model.add(Embedding(input_dim=vocab_size, output_dim=embedding_dim, input_length=max_length))\n",
        "model.add(SpatialDropout1D(0.3))\n",
        "model.add(LSTM(64, dropout=0.3, recurrent_dropout=0.2))\n",
        "model.add(Dense(1, activation='sigmoid'))\n",
        "\n",
        "# Compile the model\n",
        "model.compile(loss='binary_crossentropy', optimizer='adam', metrics=['accuracy'])\n",
        "\n",
        "# Add EarlyStopping callback\n",
        "early_stop = EarlyStopping(\n",
        "    monitor='val_loss',  # Metric to monitor\n",
        "    patience=2,          # Number of epochs with no improvement after which training will be stopped\n",
        "    restore_best_weights=True # Restore weights from the best epoch\n",
        ")\n",
        "\n",
        "# Train the model\n",
        "model.fit(\n",
        "    X_train, y_train,\n",
        "    epochs=num_epochs,\n",
        "    batch_size=batch_size,\n",
        "    validation_data=(X_test, y_test),\n",
        "    callbacks=[early_stop],\n",
        "    verbose=2\n",
        ")\n",
        "\n",
        "# Evaluate the model\n",
        "loss, accuracy = model.evaluate(X_test, y_test, verbose=2)\n",
        "print(f'Test Accuracy: {accuracy:.4f}')\n"
      ],
      "metadata": {
        "colab": {
          "base_uri": "https://localhost:8080/"
        },
        "id": "DRLczYJUFdIe",
        "outputId": "ca283e67-de48-476b-9067-3056ba782971"
      },
      "execution_count": 1,
      "outputs": [
        {
          "output_type": "stream",
          "name": "stdout",
          "text": [
            "Downloading data from https://storage.googleapis.com/tensorflow/tf-keras-datasets/imdb.npz\n",
            "\u001b[1m17464789/17464789\u001b[0m \u001b[32m━━━━━━━━━━━━━━━━━━━━\u001b[0m\u001b[37m\u001b[0m \u001b[1m0s\u001b[0m 0us/step\n"
          ]
        },
        {
          "output_type": "stream",
          "name": "stderr",
          "text": [
            "/usr/local/lib/python3.12/dist-packages/keras/src/layers/core/embedding.py:97: UserWarning: Argument `input_length` is deprecated. Just remove it.\n",
            "  warnings.warn(\n"
          ]
        },
        {
          "output_type": "stream",
          "name": "stdout",
          "text": [
            "Epoch 1/5\n",
            "391/391 - 344s - 880ms/step - accuracy: 0.7748 - loss: 0.4721 - val_accuracy: 0.8521 - val_loss: 0.3523\n",
            "Epoch 2/5\n",
            "391/391 - 338s - 864ms/step - accuracy: 0.8628 - loss: 0.3353 - val_accuracy: 0.8299 - val_loss: 0.3900\n",
            "Epoch 3/5\n",
            "391/391 - 295s - 754ms/step - accuracy: 0.8859 - loss: 0.2872 - val_accuracy: 0.8556 - val_loss: 0.3465\n",
            "Epoch 4/5\n",
            "391/391 - 358s - 916ms/step - accuracy: 0.8986 - loss: 0.2609 - val_accuracy: 0.8535 - val_loss: 0.3633\n",
            "Epoch 5/5\n",
            "391/391 - 386s - 987ms/step - accuracy: 0.9135 - loss: 0.2299 - val_accuracy: 0.8572 - val_loss: 0.3609\n",
            "782/782 - 86s - 109ms/step - accuracy: 0.8556 - loss: 0.3465\n",
            "Test Accuracy: 0.8556\n"
          ]
        }
      ]
    }
  ]
}